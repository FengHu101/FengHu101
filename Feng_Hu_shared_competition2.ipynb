{
  "nbformat": 4,
  "nbformat_minor": 0,
  "metadata": {
    "colab": {
      "provenance": [],
      "authorship_tag": "ABX9TyOMVNIcoC+FswRuH97RzH2B",
      "include_colab_link": true
    },
    "kernelspec": {
      "name": "python3",
      "display_name": "Python 3"
    },
    "language_info": {
      "name": "python"
    }
  },
  "cells": [
    {
      "cell_type": "markdown",
      "metadata": {
        "id": "view-in-github",
        "colab_type": "text"
      },
      "source": [
        "<a href=\"https://colab.research.google.com/github/FengHu101/FengHu101/blob/main/Feng_Hu_shared_competition2.ipynb\" target=\"_parent\"><img src=\"https://colab.research.google.com/assets/colab-badge.svg\" alt=\"Open In Colab\"/></a>"
      ]
    },
    {
      "cell_type": "markdown",
      "source": [
        "Conclusion：I used the decision tree classification algorithm to get a score of 0.2425, which I think is the closest to the ideal score of all the classifier algorithms I have used."
      ],
      "metadata": {
        "id": "4u52nuD7Azrg"
      }
    },
    {
      "cell_type": "markdown",
      "source": [
        "Code referred from https://colab.research.google.com/drive/1pJOtTqNsRplBbc-Sk8DVvVYyNbFkOV4o?usp=sharing#scrollTo=Kn3g00zlnjkC"
      ],
      "metadata": {
        "id": "G503EHVu2s8w"
      }
    },
    {
      "cell_type": "code",
      "execution_count": null,
      "metadata": {
        "colab": {
          "base_uri": "https://localhost:8080/",
          "height": 206
        },
        "id": "diDrh_tQKh0M",
        "outputId": "d2c95e26-92d2-45b8-dd7e-c2a4da5bef5a"
      },
      "outputs": [
        {
          "output_type": "execute_result",
          "data": {
            "text/plain": [
              "   label                                          utterance\n",
              "0      2  Give me a break. You don't know anything about...\n",
              "1      2  Ugh, nail-biting is a disgusting bad habit, so...\n",
              "2      0                                    But, Mr. Krabs.\n",
              "3      3  Yeah, me neither. No matter how cool and shiny...\n",
              "4      0                      I can do this! I can do this!"
            ],
            "text/html": [
              "\n",
              "  <div id=\"df-6c92839d-d750-43d6-bd92-574d7d76593b\">\n",
              "    <div class=\"colab-df-container\">\n",
              "      <div>\n",
              "<style scoped>\n",
              "    .dataframe tbody tr th:only-of-type {\n",
              "        vertical-align: middle;\n",
              "    }\n",
              "\n",
              "    .dataframe tbody tr th {\n",
              "        vertical-align: top;\n",
              "    }\n",
              "\n",
              "    .dataframe thead th {\n",
              "        text-align: right;\n",
              "    }\n",
              "</style>\n",
              "<table border=\"1\" class=\"dataframe\">\n",
              "  <thead>\n",
              "    <tr style=\"text-align: right;\">\n",
              "      <th></th>\n",
              "      <th>label</th>\n",
              "      <th>utterance</th>\n",
              "    </tr>\n",
              "  </thead>\n",
              "  <tbody>\n",
              "    <tr>\n",
              "      <th>0</th>\n",
              "      <td>2</td>\n",
              "      <td>Give me a break. You don't know anything about...</td>\n",
              "    </tr>\n",
              "    <tr>\n",
              "      <th>1</th>\n",
              "      <td>2</td>\n",
              "      <td>Ugh, nail-biting is a disgusting bad habit, so...</td>\n",
              "    </tr>\n",
              "    <tr>\n",
              "      <th>2</th>\n",
              "      <td>0</td>\n",
              "      <td>But, Mr. Krabs.</td>\n",
              "    </tr>\n",
              "    <tr>\n",
              "      <th>3</th>\n",
              "      <td>3</td>\n",
              "      <td>Yeah, me neither. No matter how cool and shiny...</td>\n",
              "    </tr>\n",
              "    <tr>\n",
              "      <th>4</th>\n",
              "      <td>0</td>\n",
              "      <td>I can do this! I can do this!</td>\n",
              "    </tr>\n",
              "  </tbody>\n",
              "</table>\n",
              "</div>\n",
              "      <button class=\"colab-df-convert\" onclick=\"convertToInteractive('df-6c92839d-d750-43d6-bd92-574d7d76593b')\"\n",
              "              title=\"Convert this dataframe to an interactive table.\"\n",
              "              style=\"display:none;\">\n",
              "        \n",
              "  <svg xmlns=\"http://www.w3.org/2000/svg\" height=\"24px\"viewBox=\"0 0 24 24\"\n",
              "       width=\"24px\">\n",
              "    <path d=\"M0 0h24v24H0V0z\" fill=\"none\"/>\n",
              "    <path d=\"M18.56 5.44l.94 2.06.94-2.06 2.06-.94-2.06-.94-.94-2.06-.94 2.06-2.06.94zm-11 1L8.5 8.5l.94-2.06 2.06-.94-2.06-.94L8.5 2.5l-.94 2.06-2.06.94zm10 10l.94 2.06.94-2.06 2.06-.94-2.06-.94-.94-2.06-.94 2.06-2.06.94z\"/><path d=\"M17.41 7.96l-1.37-1.37c-.4-.4-.92-.59-1.43-.59-.52 0-1.04.2-1.43.59L10.3 9.45l-7.72 7.72c-.78.78-.78 2.05 0 2.83L4 21.41c.39.39.9.59 1.41.59.51 0 1.02-.2 1.41-.59l7.78-7.78 2.81-2.81c.8-.78.8-2.07 0-2.86zM5.41 20L4 18.59l7.72-7.72 1.47 1.35L5.41 20z\"/>\n",
              "  </svg>\n",
              "      </button>\n",
              "      \n",
              "  <style>\n",
              "    .colab-df-container {\n",
              "      display:flex;\n",
              "      flex-wrap:wrap;\n",
              "      gap: 12px;\n",
              "    }\n",
              "\n",
              "    .colab-df-convert {\n",
              "      background-color: #E8F0FE;\n",
              "      border: none;\n",
              "      border-radius: 50%;\n",
              "      cursor: pointer;\n",
              "      display: none;\n",
              "      fill: #1967D2;\n",
              "      height: 32px;\n",
              "      padding: 0 0 0 0;\n",
              "      width: 32px;\n",
              "    }\n",
              "\n",
              "    .colab-df-convert:hover {\n",
              "      background-color: #E2EBFA;\n",
              "      box-shadow: 0px 1px 2px rgba(60, 64, 67, 0.3), 0px 1px 3px 1px rgba(60, 64, 67, 0.15);\n",
              "      fill: #174EA6;\n",
              "    }\n",
              "\n",
              "    [theme=dark] .colab-df-convert {\n",
              "      background-color: #3B4455;\n",
              "      fill: #D2E3FC;\n",
              "    }\n",
              "\n",
              "    [theme=dark] .colab-df-convert:hover {\n",
              "      background-color: #434B5C;\n",
              "      box-shadow: 0px 1px 3px 1px rgba(0, 0, 0, 0.15);\n",
              "      filter: drop-shadow(0px 1px 2px rgba(0, 0, 0, 0.3));\n",
              "      fill: #FFFFFF;\n",
              "    }\n",
              "  </style>\n",
              "\n",
              "      <script>\n",
              "        const buttonEl =\n",
              "          document.querySelector('#df-6c92839d-d750-43d6-bd92-574d7d76593b button.colab-df-convert');\n",
              "        buttonEl.style.display =\n",
              "          google.colab.kernel.accessAllowed ? 'block' : 'none';\n",
              "\n",
              "        async function convertToInteractive(key) {\n",
              "          const element = document.querySelector('#df-6c92839d-d750-43d6-bd92-574d7d76593b');\n",
              "          const dataTable =\n",
              "            await google.colab.kernel.invokeFunction('convertToInteractive',\n",
              "                                                     [key], {});\n",
              "          if (!dataTable) return;\n",
              "\n",
              "          const docLinkHtml = 'Like what you see? Visit the ' +\n",
              "            '<a target=\"_blank\" href=https://colab.research.google.com/notebooks/data_table.ipynb>data table notebook</a>'\n",
              "            + ' to learn more about interactive tables.';\n",
              "          element.innerHTML = '';\n",
              "          dataTable['output_type'] = 'display_data';\n",
              "          await google.colab.output.renderOutput(dataTable, element);\n",
              "          const docLink = document.createElement('div');\n",
              "          docLink.innerHTML = docLinkHtml;\n",
              "          element.appendChild(docLink);\n",
              "        }\n",
              "      </script>\n",
              "    </div>\n",
              "  </div>\n",
              "  "
            ]
          },
          "metadata": {},
          "execution_count": 40
        }
      ],
      "source": [
        "import pandas as pd #initializing\n",
        "df_train = pd.read_csv('SBSP-train.csv') #loading dataset to python dataframe\n",
        "df_test = pd.read_csv('SBSP-test.csv')\n",
        "#df_test['label'] = 0\n",
        "df_train.head()"
      ]
    },
    {
      "cell_type": "code",
      "source": [
        "X_train = df_train['utterance'] #set x,y for training\n",
        "y_train = df_train['label']\n",
        "X_test = df_test['utterance'] #set x,y for testing\n",
        "y_test = df_test['label'] "
      ],
      "metadata": {
        "id": "_7WsL1lPLvjx"
      },
      "execution_count": null,
      "outputs": []
    },
    {
      "cell_type": "markdown",
      "source": [
        "The spliting of two sets of original data is to select the model with the best effect (which can be understood as accuracy rate) and the best generalization ability."
      ],
      "metadata": {
        "id": "mw0Pvnem1GRE"
      }
    },
    {
      "cell_type": "code",
      "source": [
        "from sklearn.model_selection import train_test_split \n",
        "X_train, X_test, y_train, y_test = train_test_split(X_train, y_train, test_size=0.2) #spliting dataset to X_train, y_train, and 20% for testing"
      ],
      "metadata": {
        "id": "wXABv5iSKwkm"
      },
      "execution_count": null,
      "outputs": []
    },
    {
      "cell_type": "markdown",
      "source": [
        "In the process of machine learning, we often need to vectorize data, that is, generate some specific vector and then train and calculate."
      ],
      "metadata": {
        "id": "_-msfNfd18Y2"
      }
    },
    {
      "cell_type": "code",
      "source": [
        "from sklearn.feature_extraction.text import CountVectorizer  #Vectorzing data....\n",
        "vectorizer = CountVectorizer(max_features=1000)\n",
        "X_train_counts = vectorizer.fit_transform(X_train).toarray() #transform data to matrix\n",
        "X_test_counts = vectorizer.transform(X_test).toarray()"
      ],
      "metadata": {
        "id": "yOw8qBkaMPHo"
      },
      "execution_count": null,
      "outputs": []
    },
    {
      "cell_type": "markdown",
      "source": [
        "Code referred from https://colab.research.google.com/drive/1ygxseB4veI_jcMv5PLEBCXkE838_EJhD?usp=sharing#scrollTo=s5rpwTX6QjUZ"
      ],
      "metadata": {
        "id": "GRLlAU1w2Lkn"
      }
    },
    {
      "cell_type": "code",
      "source": [
        "from sklearn.naive_bayes import MultinomialNB #Using MultinmialNB classifier to training the data\n",
        "model = MultinomialNB()\n",
        "model.fit(X_train_counts, y_train) #fit data..."
      ],
      "metadata": {
        "colab": {
          "base_uri": "https://localhost:8080/"
        },
        "id": "7lF8-iVlMVMS",
        "outputId": "7fc7f967-6446-4ecb-e16b-36f2b13fbc5a"
      },
      "execution_count": null,
      "outputs": [
        {
          "output_type": "execute_result",
          "data": {
            "text/plain": [
              "MultinomialNB()"
            ]
          },
          "metadata": {},
          "execution_count": 44
        }
      ]
    },
    {
      "cell_type": "code",
      "source": [
        "model.score(X_test_counts, y_test) #get the accurate valuse from training"
      ],
      "metadata": {
        "colab": {
          "base_uri": "https://localhost:8080/"
        },
        "id": "eZZqicn7Mgph",
        "outputId": "1de8fb39-05f4-4aa3-8869-878ffd723338"
      },
      "execution_count": null,
      "outputs": [
        {
          "output_type": "execute_result",
          "data": {
            "text/plain": [
              "0.4663888888888889"
            ]
          },
          "metadata": {},
          "execution_count": 45
        }
      ]
    },
    {
      "cell_type": "markdown",
      "source": [
        "The training score of the MultinomialNB algorithm is about 0.407, which is far from the ideal score, indicating that this algorithm is not applicable to this data set."
      ],
      "metadata": {
        "id": "4NUDN9O73Tg4"
      }
    },
    {
      "cell_type": "markdown",
      "source": [
        "Let's try to use Perceptron for training... Perceptron is a dichotomous linear model whose inputs are feature vectors and outputs are categories. The role of Perceptron is to divide data into hyperplanes of positive and negative types. It's the most basic classifier in machine learning.\n",
        "https://colab.research.google.com/drive/1nDpIpnZDsBmqlAXr19OSe3UHXDA2WY_m#scrollTo=zEOxPh9nByXo"
      ],
      "metadata": {
        "id": "LwcNmnSe4dmv"
      }
    },
    {
      "cell_type": "code",
      "source": [
        "from sklearn.linear_model import Perceptron #Using Perceptron to training data\n",
        "model = Perceptron()\n",
        "model.fit(X_train_counts, y_train)\n",
        "model.score(X_test_counts, y_test)"
      ],
      "metadata": {
        "colab": {
          "base_uri": "https://localhost:8080/"
        },
        "id": "__V-5Gt5SCsE",
        "outputId": "89681a82-2b02-4bcc-aa96-a4f73f1bbd59"
      },
      "execution_count": null,
      "outputs": [
        {
          "output_type": "execute_result",
          "data": {
            "text/plain": [
              "0.4077777777777778"
            ]
          },
          "metadata": {},
          "execution_count": 46
        }
      ]
    },
    {
      "cell_type": "markdown",
      "source": [
        "The perceptron algorithm's score is about 0.4078. It is more ideal than very high grade MultinomialNB. However, it is not the most suitable classification algorithm for this dataset."
      ],
      "metadata": {
        "id": "pJ878fBm4nlN"
      }
    },
    {
      "cell_type": "markdown",
      "source": [
        "Let's train the data set with the following MLPClassifier, setting the number of iterations of the data to 50.\n",
        "https://colab.research.google.com/drive/1pJOtTqNsRplBbc-Sk8DVvVYyNbFkOV4o?usp=sharing#scrollTo=Kn3g00zlnjkC"
      ],
      "metadata": {
        "id": "ogHHj1c_6Zjq"
      }
    },
    {
      "cell_type": "code",
      "source": [
        "from sklearn.neural_network import MLPClassifier  #Using MLPClassifier to training data\n",
        "model = MLPClassifier(max_iter=50)\n",
        "model.fit(X_train_counts, y_train)\n"
      ],
      "metadata": {
        "colab": {
          "base_uri": "https://localhost:8080/"
        },
        "id": "DlucgAvJPeof",
        "outputId": "2dbb2e30-50cc-4881-bd1c-8e25523cf538"
      },
      "execution_count": null,
      "outputs": [
        {
          "output_type": "stream",
          "name": "stderr",
          "text": [
            "/usr/local/lib/python3.8/dist-packages/sklearn/neural_network/_multilayer_perceptron.py:692: ConvergenceWarning: Stochastic Optimizer: Maximum iterations (50) reached and the optimization hasn't converged yet.\n",
            "  warnings.warn(\n"
          ]
        },
        {
          "output_type": "execute_result",
          "data": {
            "text/plain": [
              "MLPClassifier(max_iter=50)"
            ]
          },
          "metadata": {},
          "execution_count": 53
        }
      ]
    },
    {
      "cell_type": "code",
      "source": [
        "model.score(X_test_counts, y_test)"
      ],
      "metadata": {
        "colab": {
          "base_uri": "https://localhost:8080/"
        },
        "id": "xiihmW3WPkqt",
        "outputId": "e192c18c-c45e-4d65-e961-4ca506b86035"
      },
      "execution_count": null,
      "outputs": [
        {
          "output_type": "execute_result",
          "data": {
            "text/plain": [
              "0.4608333333333333"
            ]
          },
          "metadata": {},
          "execution_count": 54
        }
      ]
    },
    {
      "cell_type": "markdown",
      "source": [
        "The score of this training is not very ideal too, and it does not seem to be the most suitable classifier"
      ],
      "metadata": {
        "id": "l4DPoXD97lzl"
      }
    },
    {
      "cell_type": "code",
      "source": [
        "vectorizer2 = CountVectorizer(max_features=1000,ngram_range=(1,2)) #Make second vector of the data set\n",
        "X_train_counts = vectorizer2.fit_transform(X_train).toarray()\n",
        "X_test_counts = vectorizer2.transform(X_test).toarray()"
      ],
      "metadata": {
        "id": "jCp7ckfnQgUw"
      },
      "execution_count": null,
      "outputs": []
    },
    {
      "cell_type": "markdown",
      "source": [
        "In machine learning, the function of vectorizing data multiple times is to improve the efficiency of computation. The function of vectorization of data for many times is to further improve the efficiency of calculation by constantly splitting calculation tasks and using multiple computing units for calculation. In this way, we can greatly reduce the calculation time and improve the training speed of the model while ensuring the accuracy of the calculation. https://colab.research.google.com/drive/1ygxseB4veI_jcMv5PLEBCXkE838_EJhD?usp=sharing#scrollTo=z6HUmfE_AjGP"
      ],
      "metadata": {
        "id": "J2BxBMb48fk9"
      }
    },
    {
      "cell_type": "code",
      "source": [
        "model = Perceptron()\n",
        "model.fit(X_train_counts, y_train)"
      ],
      "metadata": {
        "colab": {
          "base_uri": "https://localhost:8080/"
        },
        "id": "c4kg-CXvRza8",
        "outputId": "3487ae6f-fb50-474c-ab5b-aabeaeb7be0a"
      },
      "execution_count": null,
      "outputs": [
        {
          "output_type": "execute_result",
          "data": {
            "text/plain": [
              "Perceptron()"
            ]
          },
          "metadata": {},
          "execution_count": 67
        }
      ]
    },
    {
      "cell_type": "code",
      "source": [
        "model.score(X_test_counts, y_test)"
      ],
      "metadata": {
        "colab": {
          "base_uri": "https://localhost:8080/"
        },
        "id": "Pt3TlWvYR5A4",
        "outputId": "dd99cea0-301d-484b-800c-c5f69c9607e4"
      },
      "execution_count": null,
      "outputs": [
        {
          "output_type": "execute_result",
          "data": {
            "text/plain": [
              "0.43833333333333335"
            ]
          },
          "metadata": {},
          "execution_count": 68
        }
      ]
    },
    {
      "cell_type": "markdown",
      "source": [
        "After the second vectorization, the result is still not very ideal, so we have to continue to find a more suitable classifier."
      ],
      "metadata": {
        "id": "gI9099er8ke9"
      }
    },
    {
      "cell_type": "code",
      "source": [
        "from sklearn.tree import DecisionTreeClassifier #Using DecisionTreeClassifier to training data\n",
        "clf = DecisionTreeClassifier(criterion='entropy',max_depth=0.5)\n",
        "clf.fit(X_train_counts, y_train)"
      ],
      "metadata": {
        "colab": {
          "base_uri": "https://localhost:8080/"
        },
        "id": "VFba-K5wVD3Z",
        "outputId": "0cd3d073-42a8-48db-b28e-2ffd48184cba"
      },
      "execution_count": null,
      "outputs": [
        {
          "output_type": "execute_result",
          "data": {
            "text/plain": [
              "DecisionTreeClassifier(criterion='entropy', max_depth=0.5)"
            ]
          },
          "metadata": {},
          "execution_count": 104
        }
      ]
    },
    {
      "cell_type": "markdown",
      "source": [
        "Decision tree algorithm is one of the most classic algorithms in machine learning, it is easy to understand and implement: decision tree model adopts tree structure, model interpretation is good, algorithm implementation is simple. And can deal with data missing value, you can not need to preprocess the data. https://colab.research.google.com/drive/1nDpIpnZDsBmqlAXr19OSe3UHXDA2WY_m#scrollTo=zEOxPh9nByXo"
      ],
      "metadata": {
        "id": "KydUI5h983q2"
      }
    },
    {
      "cell_type": "code",
      "source": [
        "clf.score(X_test_counts, y_test)"
      ],
      "metadata": {
        "colab": {
          "base_uri": "https://localhost:8080/"
        },
        "id": "6nUZXJxmVXG0",
        "outputId": "9f90adf2-3e93-4fff-fcfc-641ff8b88a74"
      },
      "execution_count": null,
      "outputs": [
        {
          "output_type": "execute_result",
          "data": {
            "text/plain": [
              "0.2425"
            ]
          },
          "metadata": {},
          "execution_count": 105
        }
      ]
    },
    {
      "cell_type": "markdown",
      "source": [
        "I think I got the perfect score, which was close to 0.25."
      ],
      "metadata": {
        "id": "1KxA7bc--nOa"
      }
    },
    {
      "cell_type": "code",
      "source": [
        "from sklearn.neighbors import KNeighborsClassifier #Using KNN Classifier to training data\n",
        "knn = KNeighborsClassifier(n_neighbors=5,p=2)\n",
        "knn.fit(X_train_counts, y_train)"
      ],
      "metadata": {
        "colab": {
          "base_uri": "https://localhost:8080/"
        },
        "id": "dn96S8fHVciC",
        "outputId": "ce60607e-885c-4ef4-f5f4-847e1a4cd7b8"
      },
      "execution_count": null,
      "outputs": [
        {
          "output_type": "execute_result",
          "data": {
            "text/plain": [
              "KNeighborsClassifier()"
            ]
          },
          "metadata": {},
          "execution_count": 100
        }
      ]
    },
    {
      "cell_type": "markdown",
      "source": [
        "KNN classifier is also a very classical machine learning algorithm. I also used it to train and test the data set, but it did not get an ideal score. Stochastic gradient descent classification is also a very suitable algorithm for large data sets. It only needs to load a small batch of data to quickly train the model, but I did not get an ideal score from it。\n",
        "https://colab.research.google.com/drive/16iSxLAxF-826Jp2lPEZKLrUXQWqu2mR5?usp=sharing"
      ],
      "metadata": {
        "id": "uBUIqLPT-2K5"
      }
    },
    {
      "cell_type": "code",
      "source": [
        "knn.score(X_test_counts, y_test)"
      ],
      "metadata": {
        "colab": {
          "base_uri": "https://localhost:8080/"
        },
        "id": "TGz0NXljVqVN",
        "outputId": "77e2dd8c-485e-47b1-b92c-75ddbb44968b"
      },
      "execution_count": null,
      "outputs": [
        {
          "output_type": "execute_result",
          "data": {
            "text/plain": [
              "0.3377777777777778"
            ]
          },
          "metadata": {},
          "execution_count": 101
        }
      ]
    },
    {
      "cell_type": "code",
      "source": [
        "from sklearn.linear_model import SGDClassifier #Using SDG Classifier to training data\n",
        "sgd = SGDClassifier(max_iter=2000, tol = 1e-3, random_state=42)\n",
        "sgd.fit(X_train_counts, y_train)"
      ],
      "metadata": {
        "colab": {
          "base_uri": "https://localhost:8080/"
        },
        "id": "7w7_vk-2Xedo",
        "outputId": "be0a8dd2-919b-4494-9088-d3e61ffa0290"
      },
      "execution_count": null,
      "outputs": [
        {
          "output_type": "execute_result",
          "data": {
            "text/plain": [
              "SGDClassifier(max_iter=2000, random_state=42)"
            ]
          },
          "metadata": {},
          "execution_count": 102
        }
      ]
    },
    {
      "cell_type": "code",
      "source": [
        "sgd.score(X_test_counts, y_test)"
      ],
      "metadata": {
        "colab": {
          "base_uri": "https://localhost:8080/"
        },
        "id": "FHhJ3DP4Xjdj",
        "outputId": "1b1dca1a-5304-4bcd-e1e0-6fb474a5cee0"
      },
      "execution_count": null,
      "outputs": [
        {
          "output_type": "execute_result",
          "data": {
            "text/plain": [
              "0.4577777777777778"
            ]
          },
          "metadata": {},
          "execution_count": 103
        }
      ]
    }
  ]
}