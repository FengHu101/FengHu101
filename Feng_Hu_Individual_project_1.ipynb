{
  "nbformat": 4,
  "nbformat_minor": 0,
  "metadata": {
    "colab": {
      "provenance": [],
      "authorship_tag": "ABX9TyMuou4F07bmCwM+JpwkI7kH",
      "include_colab_link": true
    },
    "kernelspec": {
      "name": "python3",
      "display_name": "Python 3"
    },
    "language_info": {
      "name": "python"
    }
  },
  "cells": [
    {
      "cell_type": "markdown",
      "metadata": {
        "id": "view-in-github",
        "colab_type": "text"
      },
      "source": [
        "<a href=\"https://colab.research.google.com/github/FengHu101/FengHu101/blob/main/Feng_Hu_Individual_project_1.ipynb\" target=\"_parent\"><img src=\"https://colab.research.google.com/assets/colab-badge.svg\" alt=\"Open In Colab\"/></a>"
      ]
    },
    {
      "cell_type": "markdown",
      "source": [
        "Using the MNIST dataset, which is a set of pictures of 70,000 numbers handwritten by U.S. high school students and Census Bureau employees. Each picture is labeled with the number it represents.  I got the MINST data set directly through Scikit-Learn. (My original plan was to use Iris dataset, but in fact the size of this dataset was really small and the operability was very limited. So I looked up this even more interesting data set.)"
      ],
      "metadata": {
        "id": "CV-s4Rhzcpub"
      }
    },
    {
      "cell_type": "code",
      "execution_count": null,
      "metadata": {
        "colab": {
          "base_uri": "https://localhost:8080/"
        },
        "id": "AZVx0Fg9avv6",
        "outputId": "ba111b97-73cc-426f-ebca-94b8abdc40be"
      },
      "outputs": [
        {
          "output_type": "execute_result",
          "data": {
            "text/plain": [
              "dict_keys(['data', 'target', 'frame', 'categories', 'feature_names', 'target_names', 'DESCR', 'details', 'url'])"
            ]
          },
          "metadata": {},
          "execution_count": 4
        }
      ],
      "source": [
        "from sklearn.datasets import fetch_openml #loading dataset.....\n",
        "mnist = fetch_openml('mnist_784', version = 1, as_frame = False)\n",
        "mnist.keys()"
      ]
    },
    {
      "cell_type": "markdown",
      "source": [
        "Set up X with data, and y with target, we may get 70000 pictures, and 784 features for each picture."
      ],
      "metadata": {
        "id": "Uea_AJ3Ufnj4"
      }
    },
    {
      "cell_type": "code",
      "source": [
        "X = mnist[\"data\"] #set up x,y value\n",
        "y = mnist[\"target\"]\n",
        "print(X.shape, y.shape) #size of the dataset"
      ],
      "metadata": {
        "colab": {
          "base_uri": "https://localhost:8080/"
        },
        "id": "M8yKuhv_brCK",
        "outputId": "53a978c2-0264-4813-c110-933229bfe62a"
      },
      "execution_count": null,
      "outputs": [
        {
          "output_type": "stream",
          "name": "stdout",
          "text": [
            "(70000, 784) (70000,)\n"
          ]
        }
      ]
    },
    {
      "cell_type": "markdown",
      "source": [
        "I am going to visualize the data first since the data is not character string form, so knowing what contents are inside of the data which is important for analysis the data."
      ],
      "metadata": {
        "id": "DQywaRULhQVB"
      }
    },
    {
      "cell_type": "code",
      "source": [
        "import matplotlib as mpl\n",
        "import matplotlib. pyplot as plt\n",
        "from pathlib import Path\n",
        "\n",
        "current_path = Path.cwd()"
      ],
      "metadata": {
        "id": "FO2MU-Sqf4t5"
      },
      "execution_count": null,
      "outputs": []
    },
    {
      "cell_type": "code",
      "source": [
        "some_digit = X[0]\n",
        "some_digit_image = some_digit.reshape(28,28) #resolution of the picture"
      ],
      "metadata": {
        "id": "Bo3buNEygb8_"
      },
      "execution_count": null,
      "outputs": []
    },
    {
      "cell_type": "code",
      "source": [
        "plt.imshow(some_digit_image, cmap = mpl.cm.binary)"
      ],
      "metadata": {
        "colab": {
          "base_uri": "https://localhost:8080/",
          "height": 282
        },
        "id": "Whv7ynfHglcz",
        "outputId": "913e1566-c6a2-418a-ef4b-92cc80c37dca"
      },
      "execution_count": null,
      "outputs": [
        {
          "output_type": "execute_result",
          "data": {
            "text/plain": [
              "<matplotlib.image.AxesImage at 0x7f5465f684c0>"
            ]
          },
          "metadata": {},
          "execution_count": 14
        },
        {
          "output_type": "display_data",
          "data": {
            "text/plain": [
              "<Figure size 432x288 with 1 Axes>"
            ],
            "image/png": "[encoded data removed]"
          },
          "metadata": {
            "needs_background": "light"
          }
        }
      ]
    },
    {
      "cell_type": "code",
      "source": [
        "y[0] #The label number corresponding to the picture"
      ],
      "metadata": {
        "colab": {
          "base_uri": "https://localhost:8080/",
          "height": 35
        },
        "id": "15AB4oouhzVh",
        "outputId": "50ec60d2-7857-4dd8-bb17-a3a43b239b51"
      },
      "execution_count": null,
      "outputs": [
        {
          "output_type": "execute_result",
          "data": {
            "text/plain": [
              "'5'"
            ],
            "application/vnd.google.colaboratory.intrinsic+json": {
              "type": "string"
            }
          },
          "metadata": {},
          "execution_count": 18
        }
      ]
    },
    {
      "cell_type": "code",
      "source": [
        "import numpy as np \n",
        "y = y.astype(np.uint8) #store the pictures"
      ],
      "metadata": {
        "id": "Pnllf-ASiR_U"
      },
      "execution_count": null,
      "outputs": []
    },
    {
      "cell_type": "code",
      "source": [
        "X_train = X[:60000]\n",
        "X_test = X[60000:]\n",
        "y_train = y[:60000]\n",
        "y_test = y[60000:]"
      ],
      "metadata": {
        "id": "TNQx5TUZkRme"
      },
      "execution_count": null,
      "outputs": []
    },
    {
      "cell_type": "markdown",
      "source": [
        "First try to train a binary classifier that distinguishes between two categories: 5 and non-5. First create the target vector."
      ],
      "metadata": {
        "id": "nSfjQmESlLfr"
      }
    },
    {
      "cell_type": "code",
      "source": [
        "y_train_5 = (y_train == 5)\n",
        "y_test_5 = (y_test == 5)"
      ],
      "metadata": {
        "id": "SjWngGCxk3w5"
      },
      "execution_count": null,
      "outputs": []
    },
    {
      "cell_type": "code",
      "source": [
        "from sklearn.linear_model import SGDClassifier\n",
        "sgd = SGDClassifier(max_iter=1000, tol = 1e-3, random_state=42)\n",
        "sgd.fit(X_train, y_train_5)"
      ],
      "metadata": {
        "colab": {
          "base_uri": "https://localhost:8080/"
        },
        "id": "CjjOzcfwlMkd",
        "outputId": "5e061cd1-6346-4ef9-87c1-30783439307b"
      },
      "execution_count": null,
      "outputs": [
        {
          "output_type": "execute_result",
          "data": {
            "text/plain": [
              "SGDClassifier(random_state=42)"
            ]
          },
          "metadata": {},
          "execution_count": 28
        }
      ]
    },
    {
      "cell_type": "markdown",
      "source": [
        "The advantage of stochastic gradient descent (SGD) classifier is that it can effectively process very large data sets, because SGD independently processes training instances, one instance at a time.\n",
        "https://scikit-learn.org/stable/modules/sgd.html"
      ],
      "metadata": {
        "id": "MGZLF2YPnUmc"
      }
    },
    {
      "cell_type": "code",
      "source": [
        "sgd.predict([some_digit])"
      ],
      "metadata": {
        "colab": {
          "base_uri": "https://localhost:8080/"
        },
        "id": "Bmgyf4JUlvyD",
        "outputId": "5f14d8f5-203f-408e-ff30-aeed84af81c7"
      },
      "execution_count": null,
      "outputs": [
        {
          "output_type": "execute_result",
          "data": {
            "text/plain": [
              "array([ True])"
            ]
          },
          "metadata": {},
          "execution_count": 29
        }
      ]
    },
    {
      "cell_type": "markdown",
      "source": [
        "SGDClassifier predicted that the whole image belonged to 5, and the result was correct"
      ],
      "metadata": {
        "id": "LAHQ6zMZp7Nl"
      }
    },
    {
      "cell_type": "markdown",
      "source": [
        "A better way to evaluate classifier performance is the confusion matrix.\n",
        "https://scikit-learn.org/stable/modules/generated/sklearn.model_selection.cross_val_predict.html"
      ],
      "metadata": {
        "id": "g8H4c4n7sHDj"
      }
    },
    {
      "cell_type": "code",
      "source": [
        "from sklearn.model_selection import cross_val_predict\n",
        "\n",
        "y_train_pred = cross_val_predict(sgd, X_train, y_train_5, cv = 3)\n",
        "print(y_train_pred)\n",
        "y_train_pred.shape"
      ],
      "metadata": {
        "colab": {
          "base_uri": "https://localhost:8080/"
        },
        "id": "hhvCwzGnqD3N",
        "outputId": "010871e3-9d7d-46c4-b5d1-bdc89363a964"
      },
      "execution_count": null,
      "outputs": [
        {
          "output_type": "stream",
          "name": "stdout",
          "text": [
            "[ True False False ...  True False False]\n"
          ]
        },
        {
          "output_type": "execute_result",
          "data": {
            "text/plain": [
              "(60000,)"
            ]
          },
          "metadata": {},
          "execution_count": 33
        }
      ]
    },
    {
      "cell_type": "code",
      "source": [
        "from sklearn.metrics import confusion_matrix\n",
        "confusion_matrix(y_train_5, y_train_pred)"
      ],
      "metadata": {
        "colab": {
          "base_uri": "https://localhost:8080/"
        },
        "id": "1aBblfj6sMFA",
        "outputId": "b4df0d09-1d99-4f08-c868-c0e54b467853"
      },
      "execution_count": null,
      "outputs": [
        {
          "output_type": "execute_result",
          "data": {
            "text/plain": [
              "array([[53892,   687],\n",
              "       [ 1891,  3530]])"
            ]
          },
          "metadata": {},
          "execution_count": 35
        }
      ]
    },
    {
      "cell_type": "markdown",
      "source": [
        "The confusion matrix does provide a lot of information, but the precision and recll rate may be more appropriate for evaluate the classifier.\n",
        "https://colab.research.google.com/drive/16iSxLAxF-826Jp2lPEZKLrUXQWqu2mR5?usp=sharing"
      ],
      "metadata": {
        "id": "4y9AcyD7t9bJ"
      }
    },
    {
      "cell_type": "code",
      "source": [
        "from sklearn.metrics import precision_score, recall_score\n",
        "\n",
        "print('precision:', precision_score(y_train_5, y_train_pred))\n",
        "print('recall rate:', recall_score(y_train_5, y_train_pred))"
      ],
      "metadata": {
        "colab": {
          "base_uri": "https://localhost:8080/"
        },
        "id": "jGXIUlOWsV1D",
        "outputId": "a8f683f7-911d-4854-af2c-c7ef910c4619"
      },
      "execution_count": null,
      "outputs": [
        {
          "output_type": "stream",
          "name": "stdout",
          "text": [
            "precision: 0.8370879772350012\n",
            "recall rate: 0.6511713705958311\n"
          ]
        }
      ]
    },
    {
      "cell_type": "markdown",
      "source": [
        "According to the results of precision and recall rate, its precision is not very high. When it predicted a picture of 5, it was precised only 83.7 percent of the time, and only 65.1 percent of the 5's in the entire test set were correctly detected.\n",
        "https://www.analyticsvidhya.com/blog/2020/09/precision-recall-machine-learning/"
      ],
      "metadata": {
        "id": "Q9c8jRN6vxMz"
      }
    },
    {
      "cell_type": "markdown",
      "source": [
        "I'm also trying to use SVC classifier to train the data, But I don't think we learned that in class. I've seen on the Internet that a lot of people don't think these kinds of algorithms are suitable for large data sets."
      ],
      "metadata": {
        "id": "TZtHqkIrysIg"
      }
    },
    {
      "cell_type": "code",
      "source": [
        "from sklearn.svm import SVC\n",
        "\n",
        "svm= SVC(gamma=\"auto\", random_state=42)\n",
        "svm.fit(X_train[:1000], y_train[:1000])"
      ],
      "metadata": {
        "colab": {
          "base_uri": "https://localhost:8080/"
        },
        "id": "W3k62hjOw0dv",
        "outputId": "53dfced5-cef0-4b0f-8328-f3ae33817417"
      },
      "execution_count": null,
      "outputs": [
        {
          "output_type": "execute_result",
          "data": {
            "text/plain": [
              "SVC(gamma='auto', random_state=42)"
            ]
          },
          "metadata": {},
          "execution_count": 42
        }
      ]
    },
    {
      "cell_type": "code",
      "source": [
        "svm.predict(X_train[:3])"
      ],
      "metadata": {
        "colab": {
          "base_uri": "https://localhost:8080/"
        },
        "id": "16p8vYUJw8P8",
        "outputId": "25917e63-da36-4ec5-cf34-ca8f44247e1d"
      },
      "execution_count": null,
      "outputs": [
        {
          "output_type": "execute_result",
          "data": {
            "text/plain": [
              "array([5, 0, 4], dtype=uint8)"
            ]
          },
          "metadata": {},
          "execution_count": 44
        }
      ]
    },
    {
      "cell_type": "code",
      "source": [
        "svm_scores = svm.decision_function(X_train[:3])\n",
        "svm_scores"
      ],
      "metadata": {
        "colab": {
          "base_uri": "https://localhost:8080/"
        },
        "id": "KX1qErF4x0S9",
        "outputId": "a47c61e0-229e-490a-c5e5-e9b21a3eb1c5"
      },
      "execution_count": null,
      "outputs": [
        {
          "output_type": "execute_result",
          "data": {
            "text/plain": [
              "array([[ 2.81585438,  7.09167958,  3.82972099,  0.79365551,  5.8885703 ,\n",
              "         9.29718395,  1.79862509,  8.10392157, -0.228207  ,  4.83753243],\n",
              "       [ 9.29838234,  7.09167958,  3.82972099,  1.79572006,  5.8885703 ,\n",
              "         0.7913911 ,  2.80027801,  8.10392157, -0.22656281,  4.83753243],\n",
              "       [ 3.82111996,  7.09167958,  4.83444983,  1.79943469,  9.29932174,\n",
              "         0.79485736,  2.80437474,  8.10392157, -0.22417259,  5.84182891]])"
            ]
          },
          "metadata": {},
          "execution_count": 48
        }
      ]
    },
    {
      "cell_type": "markdown",
      "source": [
        "The highest numbers are 9.29718395, 9.29838234, 9.29932174"
      ],
      "metadata": {
        "id": "Wh1QpkTvyVgL"
      }
    },
    {
      "cell_type": "markdown",
      "source": [
        "Previously, each instance would only be classified into one category. In some cases, we want the classifier to output more than one class per instance. For example, in face recognition, when multiple people are identified in an image, there should be a label attached to each identified person. Let's look at a simple example. In it, I'll create an array of y_Multilabels with two target labels for the image of the number: the first to indicate whether the number is greater than or equal to 7, and the second to indicate whether the number is odd."
      ],
      "metadata": {
        "id": "1o8UiE5c8Pq8"
      }
    },
    {
      "cell_type": "code",
      "source": [
        "y_train_large = (y_train >= 7)\n",
        "print('y_train_large:\\n', y_train_large)"
      ],
      "metadata": {
        "colab": {
          "base_uri": "https://localhost:8080/"
        },
        "id": "KVsPuHwg7mkf",
        "outputId": "f9c97c3c-58e9-43f5-d721-7018558afe66"
      },
      "execution_count": null,
      "outputs": [
        {
          "output_type": "stream",
          "name": "stdout",
          "text": [
            "y_train_large:\n",
            " [False False False ... False False  True]\n"
          ]
        }
      ]
    },
    {
      "cell_type": "code",
      "source": [
        "y_train_odd = (y_train % 2 == 1)\n",
        "print('y_train_odd:\\n', y_train_odd)"
      ],
      "metadata": {
        "colab": {
          "base_uri": "https://localhost:8080/"
        },
        "id": "w_eqeah57on1",
        "outputId": "a146153b-a1e2-4c13-8017-c2844545964a"
      },
      "execution_count": null,
      "outputs": [
        {
          "output_type": "stream",
          "name": "stdout",
          "text": [
            "y_train_odd:\n",
            " [ True False False ...  True False False]\n"
          ]
        }
      ]
    },
    {
      "cell_type": "code",
      "source": [
        "y_multilabel = np.c_[y_train_large, y_train_odd]\n",
        "print('y_multilabel:\\n', y_multilabel)"
      ],
      "metadata": {
        "colab": {
          "base_uri": "https://localhost:8080/"
        },
        "id": "zmzPpKRL7rCl",
        "outputId": "9e53441f-7a97-427a-c38e-f8187eb80071"
      },
      "execution_count": null,
      "outputs": [
        {
          "output_type": "stream",
          "name": "stdout",
          "text": [
            "y_multilabel:\n",
            " [[False  True]\n",
            " [False False]\n",
            " [False False]\n",
            " ...\n",
            " [False  True]\n",
            " [False False]\n",
            " [ True False]]\n"
          ]
        }
      ]
    },
    {
      "cell_type": "code",
      "source": [
        "from sklearn.neighbors import KNeighborsClassifier\n",
        "knn = KNeighborsClassifier(n_neighbors=6, p=1)\n",
        "knn.fit(X_train, y_multilabel)"
      ],
      "metadata": {
        "colab": {
          "base_uri": "https://localhost:8080/"
        },
        "id": "hSscHXU20Nqs",
        "outputId": "4a7403a7-bb4f-454b-a43e-8cb8cd8c1ed9"
      },
      "execution_count": null,
      "outputs": [
        {
          "output_type": "execute_result",
          "data": {
            "text/plain": [
              "KNeighborsClassifier(n_neighbors=6, p=1)"
            ]
          },
          "metadata": {},
          "execution_count": 63
        }
      ]
    },
    {
      "cell_type": "markdown",
      "source": [
        "https://colab.research.google.com/drive/16iSxLAxF-826Jp2lPEZKLrUXQWqu2mR5?usp=sharing#scrollTo=or5cauhu7ERw"
      ],
      "metadata": {
        "id": "D8zcCH-nDvVL"
      }
    },
    {
      "cell_type": "code",
      "source": [
        "print('y_train[:3]: ', y_train[:3])\n",
        "knn.predict(X_train[:3])"
      ],
      "metadata": {
        "colab": {
          "base_uri": "https://localhost:8080/"
        },
        "id": "0E1YdV3N0syU",
        "outputId": "76df8bfd-4e10-4b15-b966-247210bc9699"
      },
      "execution_count": null,
      "outputs": [
        {
          "output_type": "stream",
          "name": "stdout",
          "text": [
            "y_train[:3]:  [5 0 4]\n"
          ]
        },
        {
          "output_type": "execute_result",
          "data": {
            "text/plain": [
              "array([[False,  True],\n",
              "       [False, False],\n",
              "       [False, False]])"
            ]
          },
          "metadata": {},
          "execution_count": 67
        }
      ]
    },
    {
      "cell_type": "markdown",
      "source": [
        "As we can see, they all turned out to be correct. All three test instances have values less than 7, and only 5 is odd."
      ],
      "metadata": {
        "id": "k8NXwafR9Gv3"
      }
    }
  ]
}